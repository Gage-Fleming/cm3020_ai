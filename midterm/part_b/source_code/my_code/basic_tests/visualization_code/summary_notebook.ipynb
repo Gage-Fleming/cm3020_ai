{
 "cells": [
  {
   "cell_type": "code",
   "execution_count": 10,
   "id": "12074c44-cf01-4aec-a795-7b173a8e8d01",
   "metadata": {},
   "outputs": [],
   "source": [
    "import pandas as pd\n",
    "import matplotlib.pyplot as plt\n",
    "import numpy as np"
   ]
  },
  {
   "cell_type": "code",
   "execution_count": 3,
   "id": "b52ae665-a09f-4718-ac3d-d6cda68e399d",
   "metadata": {},
   "outputs": [],
   "source": [
    "df1 = pd.read_csv('stats_one.csv')\n",
    "df2 = pd.read_csv('stats_two.csv')\n",
    "df3 = pd.read_csv('stats_three.csv')\n",
    "df4 = pd.read_csv('stats_four.csv')\n",
    "df5 = pd.read_csv('stats_five.csv')"
   ]
  },
  {
   "cell_type": "code",
   "execution_count": 11,
   "id": "202475e1-6fea-4010-bf5e-ffc94bc7f7e4",
   "metadata": {
    "collapsed": true,
    "jupyter": {
     "outputs_hidden": true,
     "source_hidden": true
    }
   },
   "outputs": [
    {
     "data": {
      "text/plain": [
       "Index(['iteration', ' fittest_fit', ' average_fit',\n",
       "       ' fittest_mountain_fitness', ' average_mountain_fitness',\n",
       "       ' fittest_mountain_touching_fitness',\n",
       "       ' average_mountain_touching_fitness', ' fittest_size_fitness',\n",
       "       ' average_size_fitness', ' max_links', ' average_links'],\n",
       "      dtype='object')"
      ]
     },
     "execution_count": 11,
     "metadata": {},
     "output_type": "execute_result"
    }
   ],
   "source": [
    "df1.columns"
   ]
  },
  {
   "cell_type": "code",
   "execution_count": 12,
   "id": "d618a8fb-7ed2-46ea-af34-38325bd932dc",
   "metadata": {
    "collapsed": true,
    "jupyter": {
     "outputs_hidden": true
    }
   },
   "outputs": [
    {
     "data": {
      "text/plain": [
       "Index(['iteration', ' fittest_fit', ' average_fit',\n",
       "       ' fittest_mountain_fitness', ' average_mountain_fitness',\n",
       "       ' fittest_mountain_touching_fitness',\n",
       "       ' average_mountain_touching_fitness', ' fittest_size_fitness',\n",
       "       ' average_size_fitness', ' max_links', ' average_links'],\n",
       "      dtype='object')"
      ]
     },
     "execution_count": 12,
     "metadata": {},
     "output_type": "execute_result"
    }
   ],
   "source": [
    "df2.columns"
   ]
  },
  {
   "cell_type": "code",
   "execution_count": 13,
   "id": "681184f8-904b-49c5-ba69-f8e9343c9eb6",
   "metadata": {
    "collapsed": true,
    "jupyter": {
     "outputs_hidden": true
    },
    "scrolled": true
   },
   "outputs": [
    {
     "data": {
      "text/plain": [
       "Index(['iteration', ' fittest_fit', ' average_fit',\n",
       "       ' fittest_mountain_fitness', ' average_mountain_fitness',\n",
       "       ' fittest_mountain_touching_fitness',\n",
       "       ' average_mountain_touching_fitness', ' fittest_size_fitness',\n",
       "       ' average_size_fitness', ' max_links', ' average_links'],\n",
       "      dtype='object')"
      ]
     },
     "execution_count": 13,
     "metadata": {},
     "output_type": "execute_result"
    }
   ],
   "source": [
    "df3.columns"
   ]
  },
  {
   "cell_type": "code",
   "execution_count": 14,
   "id": "d60d6b03-f52c-4a9f-8ccd-80fa8da45160",
   "metadata": {
    "collapsed": true,
    "jupyter": {
     "outputs_hidden": true
    }
   },
   "outputs": [
    {
     "data": {
      "text/plain": [
       "Index(['iteration', ' fittest_fit', ' average_fit',\n",
       "       ' fittest_mountain_fitness', ' average_mountain_fitness',\n",
       "       ' fittest_mountain_touching_fitness',\n",
       "       ' average_mountain_touching_fitness', ' fittest_size_fitness',\n",
       "       ' average_size_fitness', ' max_links', ' average_links'],\n",
       "      dtype='object')"
      ]
     },
     "execution_count": 14,
     "metadata": {},
     "output_type": "execute_result"
    }
   ],
   "source": [
    "df4.columns"
   ]
  },
  {
   "cell_type": "code",
   "execution_count": 15,
   "id": "a2c17414-6193-49d0-be18-b4c4cdbfff6b",
   "metadata": {
    "collapsed": true,
    "jupyter": {
     "outputs_hidden": true
    }
   },
   "outputs": [
    {
     "data": {
      "text/plain": [
       "Index(['iteration', ' fittest_fit', ' average_fit',\n",
       "       ' fittest_mountain_fitness', ' average_mountain_fitness',\n",
       "       ' fittest_mountain_touching_fitness',\n",
       "       ' average_mountain_touching_fitness', ' fittest_size_fitness',\n",
       "       ' average_size_fitness', ' fittest_distance', ' mean_distance',\n",
       "       ' fittest_vertical_distance', ' average_vertical_distance',\n",
       "       ' max_links', ' average_links'],\n",
       "      dtype='object')"
      ]
     },
     "execution_count": 15,
     "metadata": {},
     "output_type": "execute_result"
    }
   ],
   "source": [
    "df5.columns"
   ]
  },
  {
   "cell_type": "code",
   "execution_count": 4,
   "id": "00345d31-05c3-4a0a-8820-f7628448564a",
   "metadata": {},
   "outputs": [],
   "source": [
    "def create_combined_graph(fittest_metric, average_metric, ylabel, filename):\n",
    "    plt.figure(figsize=(15, 10))\n",
    "    \n",
    "    # Plot fittest metrics\n",
    "    plt.plot(df1['iteration'], df1[fittest_metric], label='Run 1 Fittest (200 iter)', linestyle='-')\n",
    "    plt.plot(df2['iteration'], df2[fittest_metric], label='Run 2 Fittest (200 iter)', linestyle='-')\n",
    "    plt.plot(df3['iteration'], df3[fittest_metric], label='Run 3 Fittest (200 iter)', linestyle='-')\n",
    "    plt.plot(df4['iteration'], df4[fittest_metric], label='Run 4 Fittest (150 iter)', linestyle='-')\n",
    "    plt.plot(df5['iteration'], df5[fittest_metric], label='Run 5 Fittest (250 iter)', linestyle='-')\n",
    "    \n",
    "    # Plot average metrics\n",
    "    plt.plot(df1['iteration'], df1[average_metric], label='Run 1 Average', linestyle='--')\n",
    "    plt.plot(df2['iteration'], df2[average_metric], label='Run 2 Average', linestyle='--')\n",
    "    plt.plot(df3['iteration'], df3[average_metric], label='Run 3 Average', linestyle='--')\n",
    "    plt.plot(df4['iteration'], df4[average_metric], label='Run 4 Average', linestyle='--')\n",
    "    plt.plot(df5['iteration'], df5[average_metric], label='Run 5 Average', linestyle='--')\n",
    "    \n",
    "    plt.title(f'Fittest and Average {ylabel} Over Iterations')\n",
    "    plt.xlabel('Iteration')\n",
    "    plt.ylabel(ylabel)\n",
    "    plt.legend()\n",
    "    plt.grid(True)\n",
    "    plt.tight_layout()\n",
    "    plt.savefig(filename)\n",
    "    plt.close()"
   ]
  },
  {
   "cell_type": "code",
   "execution_count": 6,
   "id": "f684d368-92aa-49cd-8633-7fe7cd9b9e02",
   "metadata": {},
   "outputs": [],
   "source": [
    "def create_combined_graph_new(fittest_metric, average_metric, ylabel, filename):\n",
    "    plt.figure(figsize=(15, 10))\n",
    "    \n",
    "    # Plot fittest metrics\n",
    "    plt.plot(df5['iteration'], df5[fittest_metric], label='Run 5 Fittest (250 iter)', linestyle='-')\n",
    "    \n",
    "    # Plot average metrics\n",
    "    plt.plot(df5['iteration'], df5[average_metric], label='Run 5 Average', linestyle='--')\n",
    "    \n",
    "    plt.title(f'Fittest and Average {ylabel} Over Iterations')\n",
    "    plt.xlabel('Iteration')\n",
    "    plt.ylabel(ylabel)\n",
    "    plt.legend()\n",
    "    plt.grid(True)\n",
    "    plt.tight_layout()\n",
    "    plt.savefig(filename)\n",
    "    plt.close()"
   ]
  },
  {
   "cell_type": "code",
   "execution_count": 9,
   "id": "6c2a10fb-7434-4912-8cb4-8ae1e668cbcd",
   "metadata": {},
   "outputs": [
    {
     "name": "stdout",
     "output_type": "stream",
     "text": [
      "Combined graphs have been created and saved.\n"
     ]
    }
   ],
   "source": [
    "create_combined_graph(' fittest_fit', ' average_fit', 'Fitness', 'combined_fitness.png')\n",
    "create_combined_graph(' fittest_mountain_fitness', ' average_mountain_fitness', 'Mountain Fitness', 'combined_mountain_fitness.png')\n",
    "create_combined_graph(' fittest_mountain_touching_fitness', ' average_mountain_touching_fitness', 'Mountain Touching Fitness', 'combined_mountain_touching_fitness.png')\n",
    "create_combined_graph(' fittest_size_fitness', ' average_size_fitness', 'Size Fitness', 'combined_size_fitness.png')\n",
    "create_combined_graph_new(' fittest_distance', ' mean_distance', 'Distance', 'combined_distance.png')\n",
    "create_combined_graph_new(' fittest_vertical_distance', ' average_vertical_distance', 'Vertical Distance', 'combined_vertical_distance.png')\n",
    "\n",
    "print(\"Combined graphs have been created and saved.\")"
   ]
  },
  {
   "cell_type": "code",
   "execution_count": 22,
   "id": "b8558f28-ec1c-407e-b5fd-782152fca195",
   "metadata": {},
   "outputs": [
    {
     "name": "stdout",
     "output_type": "stream",
     "text": [
      "\n",
      "| Parameter | Value |\n",
      "|-----------|-------|\n",
      "| Iterations | 10 |\n",
      "| Population size | 75 |\n",
      "| Gene count | 5 |\n",
      "| Simulation time | 5000 |\n",
      "| Simulation | The creature spawned just outside the mountain range with the Gaussian pyramid. |\n",
      "| Tournament size | pop_size * 0.1 |\n",
      "| Point mutate | 0.2 |\n",
      "| Shrink mutate | 0.15 |\n",
      "| Grow mutate | 0.15 |\n",
      "| Best Fitness | 80.27 |\n",
      "| Average Fitness | 4.45 |\n",
      "| Best Mountain Fitness | 35.06 |\n",
      "| Average Mountain Fitness | 12.82 |\n",
      "| Best Mountain Touching Fitness | 48.66 |\n",
      "| Average Mountain Touching Fitness | 3.58 |\n",
      "| Best Size Fitness | 6.29 |\n",
      "| Average Size Fitness | 32.72 |\n",
      "| Best Distance | 25.00 |\n",
      "| Average Distance | 4.16 |\n",
      "| Best Vertical Distance | 29.24 |\n",
      "| Average Vertical Distance | -2.30 |\n",
      "| Average Max Links | 181.93 |\n",
      "| Average Links | 21.73 |\n",
      "\n"
     ]
    }
   ],
   "source": [
    "def create_summary_table(df, params):\n",
    "    # Calculate summary statistics\n",
    "    best_fitness = df[' fittest_fit'].max()\n",
    "    avg_fitness = df[' average_fit'].mean()\n",
    "    \n",
    "    best_mountain_fitness = df[' fittest_mountain_fitness'].max()\n",
    "    avg_mountain_fitness = df[' average_mountain_fitness'].mean()\n",
    "    \n",
    "    best_mountain_touching_fitness = df[' fittest_mountain_touching_fitness'].max()\n",
    "    avg_mountain_touching_fitness = df[' average_mountain_touching_fitness'].mean()\n",
    "    \n",
    "    best_size_fitness = df[' fittest_size_fitness'].max()\n",
    "    avg_size_fitness = df[' average_size_fitness'].mean()\n",
    "    \n",
    "    best_distance = df[' fittest_distance'].max()\n",
    "    avg_distance = df[' mean_distance'].mean()\n",
    "    \n",
    "    best_vertical_distance = df[' fittest_vertical_distance'].max()\n",
    "    avg_vertical_distance = df[' average_vertical_distance'].mean()\n",
    "    \n",
    "    avg_max_links = df[' max_links'].mean()\n",
    "    avg_links = df[' average_links'].mean()\n",
    "    \n",
    "    # Create the summary table\n",
    "    table = f\"\"\"\n",
    "| Parameter | Value |\n",
    "|-----------|-------|\n",
    "| Iterations | {params['iterations']} |\n",
    "| Population size | {params['population_size']} |\n",
    "| Gene count | {params['gene_count']} |\n",
    "| Simulation time | {params['simulation_time']} |\n",
    "| Simulation | {params['simulation']} |\n",
    "| Tournament size | {params['tournament_size']} |\n",
    "| Point mutate | {params['point_mutate']} |\n",
    "| Shrink mutate | {params['shrink_mutate']} |\n",
    "| Grow mutate | {params['grow_mutate']} |\n",
    "| Best Fitness | {best_fitness:.2f} |\n",
    "| Average Fitness | {avg_fitness:.2f} |\n",
    "| Best Mountain Fitness | {best_mountain_fitness:.2f} |\n",
    "| Average Mountain Fitness | {avg_mountain_fitness:.2f} |\n",
    "| Best Mountain Touching Fitness | {best_mountain_touching_fitness:.2f} |\n",
    "| Average Mountain Touching Fitness | {avg_mountain_touching_fitness:.2f} |\n",
    "| Best Size Fitness | {best_size_fitness:.2f} |\n",
    "| Average Size Fitness | {avg_size_fitness:.2f} |\n",
    "| Best Distance | {best_distance:.2f} |\n",
    "| Average Distance | {avg_distance:.2f} |\n",
    "| Best Vertical Distance | {best_vertical_distance:.2f} |\n",
    "| Average Vertical Distance | {avg_vertical_distance:.2f} |\n",
    "| Average Max Links | {avg_max_links:.2f} |\n",
    "| Average Links | {avg_links:.2f} |\n",
    "\"\"\"\n",
    "    return table\n",
    "\n",
    "# Parameters for each test\n",
    "test_params = {\n",
    "    'iterations': 10,\n",
    "    'population_size': 75,\n",
    "    'gene_count': 5,\n",
    "    'simulation_time': 5000,\n",
    "    'simulation': \"The creature spawned just outside the mountain range with the Gaussian pyramid.\",\n",
    "    'tournament_size': 'pop_size * 0.1',\n",
    "    'point_mutate': 0.2,\n",
    "    'shrink_mutate': 0.15,\n",
    "    'grow_mutate': 0.15\n",
    "}\n",
    "\n",
    "# Generate summary table\n",
    "summary_table = create_summary_table(df5, test_params)\n",
    "\n",
    "# Print the summary table\n",
    "print(summary_table)"
   ]
  },
  {
   "cell_type": "markdown",
   "id": "ed4a8a4e-ad86-4d87-a727-2a274185e4a5",
   "metadata": {},
   "source": [
    "Basic test one\n",
    "\n",
    "| Parameter | Value |\n",
    "|-----------|-------|\n",
    "| Iterations | 1000 |\n",
    "| Population size | 10 |\n",
    "| Gene count | 3 |\n",
    "| Simulation time | 2400 |\n",
    "| Simulation | The creature spawned just outside the mountain range with the Gaussian pyramid. |\n",
    "| Tournament size | 3 |\n",
    "| Point mutate | 0.1 |\n",
    "| Shrink mutate | 0.25 |\n",
    "| Grow mutate | 0.1 |\n",
    "| Best Fitness | 81.09 |\n",
    "| Average Fitness | 34.79 |\n",
    "| Best Mountain Fitness | 38.40 |\n",
    "| Average Mountain Fitness | 12.38 |\n",
    "| Best Mountain Touching Fitness | 25.00 |\n",
    "| Average Mountain Touching Fitness | 0.41 |\n",
    "| Best Size Fitness | 25.00 |\n",
    "| Average Size Fitness | 22.00 |\n",
    "| Average Max Links | 9.18 |\n",
    "| Average Links | 3.76 |"
   ]
  },
  {
   "cell_type": "markdown",
   "id": "a94fb397-5ae5-40c5-8959-966fe61c7874",
   "metadata": {},
   "source": [
    "Basic Test two\n",
    "\n",
    "| Parameter | Value |\n",
    "|-----------|-------|\n",
    "| Iterations | 150 |\n",
    "| Population size | 50 |\n",
    "| Gene count | 5 |\n",
    "| Simulation time | 2400 |\n",
    "| Simulation | The creature spawned just outside the mountain range with the Gaussian pyramid. |\n",
    "| Tournament size | pop_size * 0.1 |\n",
    "| Point mutate | 0.1 |\n",
    "| Shrink mutate | 0.1 |\n",
    "| Grow mutate | 0.1 |\n",
    "| Best Fitness | 144.66 |\n",
    "| Average Fitness | 33.97 |\n",
    "| Best Mountain Fitness | 100.00 |\n",
    "| Average Mountain Fitness | 12.96 |\n",
    "| Best Mountain Touching Fitness | 25.00 |\n",
    "| Average Mountain Touching Fitness | 3.28 |\n",
    "| Best Size Fitness | 25.00 |\n",
    "| Average Size Fitness | 17.73 |\n",
    "| Average Max Links | 70.50 |\n",
    "| Average Links | 14.92 |"
   ]
  },
  {
   "cell_type": "markdown",
   "id": "ff506bb7-5242-4c55-bd94-eabcdc690a34",
   "metadata": {},
   "source": [
    "Basic Test Three\n",
    "| Parameter | Value |\n",
    "|-----------|-------|\n",
    "| Iterations | 30 |\n",
    "| Population size | 100 |\n",
    "| Gene count | 4 |\n",
    "| Simulation time | 4800 |\n",
    "| Simulation | The creature spawned just outside the mountain range with the Gaussian pyramid. |\n",
    "| Tournament size | pop_size * 0.1 |\n",
    "| Point mutate | 0.2 |\n",
    "| Shrink mutate | 0.1 |\n",
    "| Grow mutate | 0.1 |\n",
    "| Best Fitness | 107.09 |\n",
    "| Average Fitness | 34.01 |\n",
    "| Best Mountain Fitness | 79.55 |\n",
    "| Average Mountain Fitness | 12.77 |\n",
    "| Best Mountain Touching Fitness | 25.00 |\n",
    "| Average Mountain Touching Fitness | 5.48 |\n",
    "| Best Size Fitness | 25.00 |\n",
    "| Average Size Fitness | 15.76 |\n",
    "| Average Max Links | 209.65 |\n",
    "| Average Links | 38.06 |"
   ]
  },
  {
   "cell_type": "markdown",
   "id": "c4623e30-4832-4a02-89df-fc864dd61f6a",
   "metadata": {},
   "source": [
    "Basic Test Four\n",
    "| Parameter | Value |\n",
    "|-----------|-------|\n",
    "| Iterations | 1000 |\n",
    "| Population size | 50 |\n",
    "| Gene count | 4 |\n",
    "| Simulation time | 4800 |\n",
    "| Simulation | The creature spawned just outside the mountain range with the Gaussian pyramid. |\n",
    "| Tournament size | pop_size * 0.1 |\n",
    "| Point mutate | 0.2 |\n",
    "| Shrink mutate | 0.1 |\n",
    "| Grow mutate | 0.1 |\n",
    "| Best Fitness | 60.49 |\n",
    "| Average Fitness | 6.74 |\n",
    "| Best Mountain Fitness | 56.91 |\n",
    "| Average Mountain Fitness | 12.53 |\n",
    "| Best Mountain Touching Fitness | 15.44 |\n",
    "| Average Mountain Touching Fitness | 6.40 |\n",
    "| Best Size Fitness | 15.44 |\n",
    "| Average Size Fitness | 18.60 |\n",
    "| Average Max Links | 11.86 |\n",
    "| Average Links | 2.80 |"
   ]
  },
  {
   "cell_type": "markdown",
   "id": "614565cc-b1a1-4c1e-8256-b1b50c8fc27f",
   "metadata": {},
   "source": [
    "Basic test Five\n",
    "| Parameter | Value |\n",
    "|-----------|-------|\n",
    "| Iterations | 10 |\n",
    "| Population size | 75 |\n",
    "| Gene count | 5 |\n",
    "| Simulation time | 5000 |\n",
    "| Simulation | The creature spawned just outside the mountain range with the Gaussian pyramid. |\n",
    "| Tournament size | pop_size * 0.1 |\n",
    "| Point mutate | 0.2 |\n",
    "| Shrink mutate | 0.15 |\n",
    "| Grow mutate | 0.15 |\n",
    "| Best Fitness | 80.27 |\n",
    "| Average Fitness | 4.45 |\n",
    "| Best Mountain Fitness | 35.06 |\n",
    "| Average Mountain Fitness | 12.82 |\n",
    "| Best Mountain Touching Fitness | 48.66 |\n",
    "| Average Mountain Touching Fitness | 3.58 |\n",
    "| Best Size Fitness | 6.29 |\n",
    "| Average Size Fitness | 32.72 |\n",
    "| Best Distance | 25.00 |\n",
    "| Average Distance | 4.16 |\n",
    "| Best Vertical Distance | 29.24 |\n",
    "| Average Vertical Distance | -2.30 |\n",
    "| Average Max Links | 181.93 |\n",
    "| Average Links | 21.73 |"
   ]
  },
  {
   "cell_type": "code",
   "execution_count": null,
   "id": "31261f0b-a9c0-4cf2-9782-e011d2caaaf8",
   "metadata": {},
   "outputs": [],
   "source": []
  }
 ],
 "metadata": {
  "kernelspec": {
   "display_name": "Python 3 (ipykernel)",
   "language": "python",
   "name": "python3"
  },
  "language_info": {
   "codemirror_mode": {
    "name": "ipython",
    "version": 3
   },
   "file_extension": ".py",
   "mimetype": "text/x-python",
   "name": "python",
   "nbconvert_exporter": "python",
   "pygments_lexer": "ipython3",
   "version": "3.11.5"
  }
 },
 "nbformat": 4,
 "nbformat_minor": 5
}
